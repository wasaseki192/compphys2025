{
 "cells": [
  {
   "cell_type": "code",
   "execution_count": null,
   "id": "0d40d047",
   "metadata": {},
   "outputs": [],
   "source": [
    "# Compute the derivative of N(t)\n",
    "deriv_Nt(nt, K, r) = r*nt*(1-nt/K)\n",
    "\n",
    "# Compute N(t+h)\n",
    "next_Nt(nt, K, r, h) = nt + h*deriv_Nt(nt, K, r)"
   ]
  },
  {
   "cell_type": "code",
   "execution_count": null,
   "id": "1f82e686",
   "metadata": {},
   "outputs": [],
   "source": [
    "# Define parameters\n",
    "tmax = 10.0 # 終了時刻\n",
    "r = 1.0 #パラメータ1\n",
    "K = 10.0 # パラメータ2\n",
    "N0 = 1.0 # 人口の初期値\n",
    "numtimes = 100 # 0 < t < tmax の分割数\n",
    "\n",
    "h = tmax/numtimes\n",
    "\n",
    "# 型安定性の確認\n",
    "@code_warntype deriv_Nt(N0, K, r)\n",
    "@code_warntype next_Nt(N0, r, h)"
   ]
  },
  {
   "cell_type": "code",
   "execution_count": null,
   "id": "7cb0fd00",
   "metadata": {},
   "outputs": [],
   "source": [
    "results = Vector{Float64}(undef, numtimes+1)\n",
    "\n",
    "# 初期値\n",
    "results[1] = N0\n",
    "\n",
    "# 時間発展\n",
    "for t in 1:numtimes\n",
    "    results[t+1] = next_Nt(results[t], K, r, h)\n",
    "end"
   ]
  },
  {
   "cell_type": "code",
   "execution_count": null,
   "id": "6c9e97c7",
   "metadata": {},
   "outputs": [],
   "source": [
    "using Plots\n",
    "\n",
    "times = LinRange(0, tmax, numtimes+1)\n",
    "\n",
    "plot(times, results, label=\"Numerical\", xlabel=\"time\")"
   ]
  },
  {
   "cell_type": "code",
   "execution_count": null,
   "id": "5cc372db",
   "metadata": {},
   "outputs": [],
   "source": [
    "exact_Nt(time) = K/(1+(K-N0) / N0 * exp(-r*time))\n",
    "\n",
    "p = plot(yaxis=:log, ylims=(1e-10, 1000),  xlabel=\"time\")\n",
    "plot!(p, times, results, label=\"Numerical\")\n",
    "plot!(p, times, abs.(results .- exact_Nt.(times)), marker=:x, label=\"Error\")"
   ]
  },
  {
   "cell_type": "code",
   "execution_count": null,
   "id": "702c453a",
   "metadata": {},
   "outputs": [],
   "source": [
    "using DifferentialEquations\n",
    "\n",
    "# ロジスティック方程式の定義\n",
    "function logistic!(du, u, params, t)\n",
    "    r, K = params\n",
    "    du[1] = r * u[1] * (1 - u[1]/K)\n",
    "end\n",
    "\n",
    "# パラメータの設定\n",
    "params = (r, K)\n",
    "\n",
    "# 初期条件の設定\n",
    "u0 = [1.0]  # 開始時点の人口サイズ\n",
    "\n",
    "# 時間範囲の設定\n",
    "tspan = (0.0, tmax)\n",
    "\n",
    "# 問題の設定\n",
    "prob = ODEProblem(logistic!, u0, tspan, params)\n",
    "\n",
    "# 微分方程式の解 (5次のルンゲクッタ法)\n",
    "sol = solve(prob, Tsit5(), abstol=1e-8, reltol=1e-8)"
   ]
  },
  {
   "cell_type": "code",
   "execution_count": null,
   "id": "9956bcdc",
   "metadata": {},
   "outputs": [],
   "source": [
    "# 解のプロット\n",
    "results_de = [u_[1] for u_ in sol.u]\n",
    "\n",
    "p = plot(yaxis=:log, ylims=(1e-10, 1000),  xlabel=\"time\")\n",
    "plot!(p, sol.t, results_de, marker=:o)\n",
    "plot!(p, sol.t, abs.(results_de .- exact_Nt.(sol.t)), label=\"error\")"
   ]
  }
 ],
 "metadata": {
  "kernelspec": {
   "display_name": "Julia 1.11.5",
   "language": "julia",
   "name": "julia-1.11"
  },
  "language_info": {
   "file_extension": ".jl",
   "mimetype": "application/julia",
   "name": "julia",
   "version": "1.11.5"
  }
 },
 "nbformat": 4,
 "nbformat_minor": 5
}
