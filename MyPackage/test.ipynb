{
 "cells": [
  {
   "cell_type": "code",
   "execution_count": 3,
   "id": "fc4adb8a",
   "metadata": {},
   "outputs": [
    {
     "data": {
      "text/plain": [
       "\u001b[32m\u001b[1mTest Passed\u001b[22m\u001b[39m"
      ]
     },
     "metadata": {},
     "output_type": "display_data"
    }
   ],
   "source": [
    "using Test\n",
    "\n",
    "function myiseven(x::Int)\n",
    "\treturn x % 2 == 0\n",
    "end\n",
    "\n",
    "@test myiseven(1) == false\n",
    "@test myiseven(2) == true\n",
    "@test myiseven(3) == false\n"
   ]
  },
  {
   "cell_type": "code",
   "execution_count": 4,
   "id": "128046e6",
   "metadata": {},
   "outputs": [
    {
     "data": {
      "text/plain": [
       "true"
      ]
     },
     "metadata": {},
     "output_type": "display_data"
    }
   ],
   "source": [
    "myiseven(4)"
   ]
  },
  {
   "cell_type": "code",
   "execution_count": 5,
   "id": "2bc699bd",
   "metadata": {},
   "outputs": [
    {
     "data": {
      "text/plain": [
       "false"
      ]
     },
     "metadata": {},
     "output_type": "display_data"
    }
   ],
   "source": [
    "myiseven(5)"
   ]
  },
  {
   "cell_type": "code",
   "execution_count": null,
   "id": "ad9be829",
   "metadata": {},
   "outputs": [],
   "source": []
  }
 ],
 "metadata": {
  "kernelspec": {
   "display_name": "Julia 1.11.5",
   "language": "julia",
   "name": "julia-1.11"
  },
  "language_info": {
   "file_extension": ".jl",
   "mimetype": "application/julia",
   "name": "julia",
   "version": "1.11.5"
  }
 },
 "nbformat": 4,
 "nbformat_minor": 5
}
